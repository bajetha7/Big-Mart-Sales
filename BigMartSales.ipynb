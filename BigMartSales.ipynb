{
 "cells": [
  {
   "cell_type": "markdown",
   "metadata": {},
   "source": [
    "## Big Mart Sales Prediction"
   ]
  },
  {
   "cell_type": "code",
   "execution_count": 3,
   "metadata": {
    "collapsed": true
   },
   "outputs": [],
   "source": [
    "#importing libraries\n",
    "import pandas as pd\n",
    "import numpy as np\n",
    "import matplotlib.pyplot as plt"
   ]
  },
  {
   "cell_type": "code",
   "execution_count": 4,
   "metadata": {
    "collapsed": true
   },
   "outputs": [],
   "source": [
    "# loading the dataset\n",
    "train_data = pd.read_csv('G:/analytics vidhya/Big Mart sales/Train_UWu5bXk.csv')\n",
    "test_data = pd.read_csv('G:/analytics vidhya/Big Mart sales/Test_u94Q5KV.csv')\n",
    "\n",
    "#combining train and test data\n",
    "dataset = pd.concat([train_data,test_data],ignore_index = True, sort = True)\n"
   ]
  },
  {
   "cell_type": "markdown",
   "metadata": {},
   "source": [
    "### Data Exploration"
   ]
  },
  {
   "cell_type": "code",
   "execution_count": 5,
   "metadata": {},
   "outputs": [
    {
     "data": {
      "text/plain": [
       "(14204, 12)"
      ]
     },
     "execution_count": 5,
     "metadata": {},
     "output_type": "execute_result"
    }
   ],
   "source": [
    "# check how the data looks?\n",
    "dataset.head()\n",
    "dataset.shape"
   ]
  },
  {
   "cell_type": "code",
   "execution_count": 6,
   "metadata": {},
   "outputs": [
    {
     "data": {
      "text/html": [
       "<div>\n",
       "<style scoped>\n",
       "    .dataframe tbody tr th:only-of-type {\n",
       "        vertical-align: middle;\n",
       "    }\n",
       "\n",
       "    .dataframe tbody tr th {\n",
       "        vertical-align: top;\n",
       "    }\n",
       "\n",
       "    .dataframe thead th {\n",
       "        text-align: right;\n",
       "    }\n",
       "</style>\n",
       "<table border=\"1\" class=\"dataframe\">\n",
       "  <thead>\n",
       "    <tr style=\"text-align: right;\">\n",
       "      <th></th>\n",
       "      <th>Item_MRP</th>\n",
       "      <th>Item_Outlet_Sales</th>\n",
       "      <th>Item_Visibility</th>\n",
       "      <th>Item_Weight</th>\n",
       "      <th>Outlet_Establishment_Year</th>\n",
       "    </tr>\n",
       "  </thead>\n",
       "  <tbody>\n",
       "    <tr>\n",
       "      <th>count</th>\n",
       "      <td>14204.000000</td>\n",
       "      <td>8523.000000</td>\n",
       "      <td>14204.000000</td>\n",
       "      <td>11765.000000</td>\n",
       "      <td>14204.000000</td>\n",
       "    </tr>\n",
       "    <tr>\n",
       "      <th>mean</th>\n",
       "      <td>141.004977</td>\n",
       "      <td>2181.288914</td>\n",
       "      <td>0.065953</td>\n",
       "      <td>12.792854</td>\n",
       "      <td>1997.830681</td>\n",
       "    </tr>\n",
       "    <tr>\n",
       "      <th>std</th>\n",
       "      <td>62.086938</td>\n",
       "      <td>1706.499616</td>\n",
       "      <td>0.051459</td>\n",
       "      <td>4.652502</td>\n",
       "      <td>8.371664</td>\n",
       "    </tr>\n",
       "    <tr>\n",
       "      <th>min</th>\n",
       "      <td>31.290000</td>\n",
       "      <td>33.290000</td>\n",
       "      <td>0.000000</td>\n",
       "      <td>4.555000</td>\n",
       "      <td>1985.000000</td>\n",
       "    </tr>\n",
       "    <tr>\n",
       "      <th>25%</th>\n",
       "      <td>94.012000</td>\n",
       "      <td>834.247400</td>\n",
       "      <td>0.027036</td>\n",
       "      <td>8.710000</td>\n",
       "      <td>1987.000000</td>\n",
       "    </tr>\n",
       "    <tr>\n",
       "      <th>50%</th>\n",
       "      <td>142.247000</td>\n",
       "      <td>1794.331000</td>\n",
       "      <td>0.054021</td>\n",
       "      <td>12.600000</td>\n",
       "      <td>1999.000000</td>\n",
       "    </tr>\n",
       "    <tr>\n",
       "      <th>75%</th>\n",
       "      <td>185.855600</td>\n",
       "      <td>3101.296400</td>\n",
       "      <td>0.094037</td>\n",
       "      <td>16.750000</td>\n",
       "      <td>2004.000000</td>\n",
       "    </tr>\n",
       "    <tr>\n",
       "      <th>max</th>\n",
       "      <td>266.888400</td>\n",
       "      <td>13086.964800</td>\n",
       "      <td>0.328391</td>\n",
       "      <td>21.350000</td>\n",
       "      <td>2009.000000</td>\n",
       "    </tr>\n",
       "  </tbody>\n",
       "</table>\n",
       "</div>"
      ],
      "text/plain": [
       "           Item_MRP  Item_Outlet_Sales  Item_Visibility   Item_Weight  \\\n",
       "count  14204.000000        8523.000000     14204.000000  11765.000000   \n",
       "mean     141.004977        2181.288914         0.065953     12.792854   \n",
       "std       62.086938        1706.499616         0.051459      4.652502   \n",
       "min       31.290000          33.290000         0.000000      4.555000   \n",
       "25%       94.012000         834.247400         0.027036      8.710000   \n",
       "50%      142.247000        1794.331000         0.054021     12.600000   \n",
       "75%      185.855600        3101.296400         0.094037     16.750000   \n",
       "max      266.888400       13086.964800         0.328391     21.350000   \n",
       "\n",
       "       Outlet_Establishment_Year  \n",
       "count               14204.000000  \n",
       "mean                 1997.830681  \n",
       "std                     8.371664  \n",
       "min                  1985.000000  \n",
       "25%                  1987.000000  \n",
       "50%                  1999.000000  \n",
       "75%                  2004.000000  \n",
       "max                  2009.000000  "
      ]
     },
     "execution_count": 6,
     "metadata": {},
     "output_type": "execute_result"
    }
   ],
   "source": [
    "# summary of dataset\n",
    "summary = dataset.describe()\n",
    "summary"
   ]
  },
  {
   "cell_type": "markdown",
   "metadata": {},
   "source": [
    "#### Here if we look closely, the minimum value for Item_Visibility is 0. This makes no sense because if the product is sold in the store or is available for sale in store then it's visibility cannot be 0.\n",
    "\n",
    "#### Outlet_Establishment_Year can be coverted into age of the outlet which will have more significant impact on Target variable."
   ]
  },
  {
   "cell_type": "code",
   "execution_count": 7,
   "metadata": {},
   "outputs": [
    {
     "data": {
      "text/plain": [
       "<matplotlib.axes._subplots.AxesSubplot at 0x1dba5be92e8>"
      ]
     },
     "execution_count": 7,
     "metadata": {},
     "output_type": "execute_result"
    },
    {
     "data": {
      "image/png": "[encoded data removed]",
      "text/plain": [
       "<Figure size 432x288 with 1 Axes>"
      ]
     },
     "metadata": {},
     "output_type": "display_data"
    }
   ],
   "source": [
    "%matplotlib inline\n",
    "dataset['Item_Visibility'].plot.box() "
   ]
  },
  {
   "cell_type": "code",
   "execution_count": 8,
   "metadata": {},
   "outputs": [
    {
     "data": {
      "text/plain": [
       "(3166, 12)"
      ]
     },
     "execution_count": 8,
     "metadata": {},
     "output_type": "execute_result"
    }
   ],
   "source": [
    "dataset[dataset['Item_Visibility']>=0.10].shape"
   ]
  },
  {
   "cell_type": "code",
   "execution_count": 9,
   "metadata": {},
   "outputs": [
    {
     "data": {
      "text/plain": [
       "Index(['Item_Fat_Content', 'Item_Identifier', 'Item_Type', 'Outlet_Identifier',\n",
       "       'Outlet_Location_Type', 'Outlet_Size', 'Outlet_Type'],\n",
       "      dtype='object')"
      ]
     },
     "execution_count": 9,
     "metadata": {},
     "output_type": "execute_result"
    }
   ],
   "source": [
    "#  for categorical variables.\n",
    "categorical_variables = dataset.dtypes.loc[dataset.dtypes== 'object'].index\n",
    "categorical_variables"
   ]
  },
  {
   "cell_type": "code",
   "execution_count": 10,
   "metadata": {},
   "outputs": [
    {
     "data": {
      "text/plain": [
       "Item_Fat_Content           5\n",
       "Item_Identifier         1559\n",
       "Item_Type                 16\n",
       "Outlet_Identifier         10\n",
       "Outlet_Location_Type       3\n",
       "Outlet_Size                4\n",
       "Outlet_Type                4\n",
       "dtype: int64"
      ]
     },
     "execution_count": 10,
     "metadata": {},
     "output_type": "execute_result"
    }
   ],
   "source": [
    "dataset[categorical_variables].apply(lambda x: len(x.unique()))"
   ]
  },
  {
   "cell_type": "code",
   "execution_count": 11,
   "metadata": {},
   "outputs": [
    {
     "data": {
      "text/plain": [
       "<matplotlib.axes._subplots.AxesSubplot at 0x1dba7e2e5c0>"
      ]
     },
     "execution_count": 11,
     "metadata": {},
     "output_type": "execute_result"
    },
    {
     "data": {
      "image/png": "[encoded data removed]",
      "text/plain": [
       "<Figure size 1440x720 with 5 Axes>"
      ]
     },
     "metadata": {},
     "output_type": "display_data"
    }
   ],
   "source": [
    "plt.figure(figsize = (20,10))\n",
    "#plt.subplots_adjusts(hspace = 0,vspace = 0)\n",
    "plt.subplot(2,3,1)\n",
    "plt.title('Item Type')\n",
    "dataset['Item_Type'].value_counts().plot.bar()\n",
    "\n",
    "plt.subplot(2,3,2)\n",
    "plt.title('Item Fat Content')\n",
    "dataset['Item_Fat_Content'].value_counts().plot.bar()\n",
    "\n",
    "plt.subplot(2,3,3)\n",
    "plt.title('Outlet Location Type')\n",
    "dataset['Outlet_Location_Type'].value_counts().plot.bar()\n",
    "\n",
    "plt.subplot(2,3,4)\n",
    "plt.title('Outlet Type')\n",
    "dataset['Outlet_Type'].value_counts().plot.bar()\n",
    "\n",
    "plt.subplot(2,3,5)\n",
    "plt.title('Outlet Size')\n",
    "dataset['Outlet_Size'].value_counts().plot.bar()"
   ]
  },
  {
   "cell_type": "markdown",
   "metadata": {},
   "source": [
    "#### Item_Type  has many categories and many of them dont have significant numbers. So, it will be good if we combine categories to some broad categories.\n",
    "\n",
    "#### In Item_Fat_Content column, there are only two main labels but multiple names are given. "
   ]
  },
  {
   "cell_type": "markdown",
   "metadata": {
    "collapsed": true
   },
   "source": [
    "## Null Values"
   ]
  },
  {
   "cell_type": "code",
   "execution_count": 12,
   "metadata": {},
   "outputs": [
    {
     "data": {
      "text/plain": [
       "Item_Fat_Content                0\n",
       "Item_Identifier                 0\n",
       "Item_MRP                        0\n",
       "Item_Outlet_Sales            5681\n",
       "Item_Type                       0\n",
       "Item_Visibility                 0\n",
       "Item_Weight                  2439\n",
       "Outlet_Establishment_Year       0\n",
       "Outlet_Identifier               0\n",
       "Outlet_Location_Type            0\n",
       "Outlet_Size                  4016\n",
       "Outlet_Type                     0\n",
       "dtype: int64"
      ]
     },
     "execution_count": 12,
     "metadata": {},
     "output_type": "execute_result"
    }
   ],
   "source": [
    "# checking null values for every column in a dataset\n",
    "dataset.apply(lambda x: sum(x.isnull()))\n",
    "# Here we see null values are present in column Item_Wieght and Outlet_Size."
   ]
  },
  {
   "cell_type": "markdown",
   "metadata": {},
   "source": [
    "#### To impute missing values we can look for the same Item_Identifier and Outlet_Identifier for which values are present. We can replace the NaN values with the value provided for same Identifier.\n",
    "\n",
    "#### In this case it works for Item_Weight, as we gets all the values against all missing values."
   ]
  },
  {
   "cell_type": "code",
   "execution_count": 13,
   "metadata": {
    "collapsed": true
   },
   "outputs": [],
   "source": [
    "#Extract identifiers\n",
    "items_id = dataset['Item_Identifier'].copy()\n",
    "outlets_id = dataset['Outlet_Identifier'].copy()\n",
    "\n",
    "#Concat id and weight\n",
    "df_copy = pd.concat([items_id, dataset['Item_Weight']], axis='columns')\n",
    "#Get null values\n",
    "df_copy = df_copy[dataset['Item_Weight'].isnull()]\n",
    "#Get how many nulls ids are\n",
    "nulls = df_copy['Item_Identifier'].unique()\n",
    "\n",
    "from scipy.stats import mode\n",
    "for id in nulls:\n",
    "    #Get value\n",
    "    df_weight = dataset.loc[items_id == id, 'Item_Weight']\n",
    "    value = mode(df_weight.values, nan_policy='omit').mode[0]\n",
    "    \n",
    "    if value == 0:\n",
    "        value = np.nan #No results if mode = 0\n",
    "    \n",
    "    dataset.loc[(df_weight == np.nan).index, 'Item_Weight'] = value"
   ]
  },
  {
   "cell_type": "markdown",
   "metadata": {},
   "source": [
    "#### For Outlet_Size, we look for the relation with Outlet_Type column and replace with mode values."
   ]
  },
  {
   "cell_type": "code",
   "execution_count": 14,
   "metadata": {
    "collapsed": true
   },
   "outputs": [],
   "source": [
    "# cross tabulation \n",
    "ct = pd.crosstab(dataset['Outlet_Size'],dataset['Outlet_Type'],margins = True)"
   ]
  },
  {
   "cell_type": "code",
   "execution_count": 15,
   "metadata": {},
   "outputs": [
    {
     "data": {
      "text/plain": [
       "Item_Fat_Content                0\n",
       "Item_Identifier                 0\n",
       "Item_MRP                        0\n",
       "Item_Outlet_Sales            5681\n",
       "Item_Type                       0\n",
       "Item_Visibility                 0\n",
       "Item_Weight                     0\n",
       "Outlet_Establishment_Year       0\n",
       "Outlet_Identifier               0\n",
       "Outlet_Location_Type            0\n",
       "Outlet_Size                     0\n",
       "Outlet_Type                     0\n",
       "dtype: int64"
      ]
     },
     "execution_count": 15,
     "metadata": {},
     "output_type": "execute_result"
    }
   ],
   "source": [
    "dataset.loc[dataset['Outlet_Type'] == 'Grocery Store', 'Outlet_Size'] = 'Small'\n",
    "dataset.loc[dataset['Outlet_Type'] == 'Supermarket Type1', 'Outlet_Size'] = 'Small'\n",
    "dataset.loc[dataset['Outlet_Type'] == 'Supermarket Type2', 'Outlet_Size'] = 'Medium'\n",
    "dataset.loc[dataset['Outlet_Type'] == 'Supermarket Type3', 'Outlet_Size'] = 'Medium'\n",
    "\n",
    "# Checking again for Null values\n",
    "dataset.apply(lambda x: sum(x.isnull()))"
   ]
  },
  {
   "cell_type": "markdown",
   "metadata": {},
   "source": [
    "## Feature Engineering"
   ]
  },
  {
   "cell_type": "code",
   "execution_count": 16,
   "metadata": {},
   "outputs": [
    {
     "data": {
      "text/plain": [
       "Low Fat    9185\n",
       "Regular    5019\n",
       "Name: Item_Fat_Content, dtype: int64"
      ]
     },
     "execution_count": 16,
     "metadata": {},
     "output_type": "execute_result"
    }
   ],
   "source": [
    "# Transforming the categories for Item_Fat_Content\n",
    "#Transform 'LF' and 'low fat' to 'Low Fat'\n",
    "dataset.loc[dataset['Item_Fat_Content'] == 'LF', 'Item_Fat_Content'] = 'Low Fat'\n",
    "dataset.loc[dataset['Item_Fat_Content'] == 'low fat', 'Item_Fat_Content'] = 'Low Fat'\n",
    "\n",
    "#Transform 'reg' to 'Regular'\n",
    "dataset.loc[dataset['Item_Fat_Content'] == 'reg', 'Item_Fat_Content'] = 'Regular'\n",
    "\n",
    "dataset['Item_Fat_Content'].value_counts()"
   ]
  },
  {
   "cell_type": "code",
   "execution_count": 19,
   "metadata": {},
   "outputs": [
    {
     "data": {
      "text/plain": [
       "count    14204.000000\n",
       "mean         0.065953\n",
       "std          0.045966\n",
       "min          0.003575\n",
       "25%          0.030052\n",
       "50%          0.055289\n",
       "75%          0.092060\n",
       "max          0.323637\n",
       "Name: Item_Visibility, dtype: float64"
      ]
     },
     "execution_count": 19,
     "metadata": {},
     "output_type": "execute_result"
    }
   ],
   "source": [
    "# Item_visibility\n",
    "# Replacing 0 value with mean value in Item_Visibility for that product.\n",
    "#Determine average visibility of a product\n",
    "mean_visibility = dataset.pivot_table(values='Item_Visibility', index='Item_Identifier').reset_index()\n",
    "\n",
    "#Impute 0 values with mean visibility of that product:\n",
    "visibility = pd.concat([dataset['Item_Identifier'], dataset['Item_Visibility']], axis='columns', keys=['id', 'Item_Visibility'])\n",
    "zero_visibility = visibility.loc[visibility['Item_Visibility'] == 0]\n",
    "dataset['Item_Visibility'].describe()\n",
    "\n",
    "for id in zero_visibility['id']:\n",
    "    #print(id)\n",
    "    #if id in mean_visibility:\n",
    "    row = mean_visibility.loc[mean_visibility['Item_Identifier'] == id]\n",
    "    value = row.iloc[0]['Item_Visibility']\n",
    "    dataset.loc[dataset['Item_Identifier']== id, 'Item_Visibility'] = value\n",
    "\n",
    "# check the values in Item_Visibility\n",
    "dataset['Item_Visibility'].describe()"
   ]
  },
  {
   "cell_type": "code",
   "execution_count": 20,
   "metadata": {
    "collapsed": true
   },
   "outputs": [],
   "source": [
    "#For the year column,calculating how old is a particular store is.\n",
    "dataset['Outlet_Age'] = 2013 - dataset['Outlet_Establishment_Year']"
   ]
  },
  {
   "cell_type": "code",
   "execution_count": 21,
   "metadata": {},
   "outputs": [
    {
     "data": {
      "text/plain": [
       "Food              10201\n",
       "Non-Consumable     2686\n",
       "Drinks             1317\n",
       "Name: Item_Type_Combined, dtype: int64"
      ]
     },
     "execution_count": 21,
     "metadata": {},
     "output_type": "execute_result"
    }
   ],
   "source": [
    "# broad category for items\n",
    "#Get the first two characters of ID:\n",
    "dataset['Item_Type_Combined'] = dataset['Item_Identifier'].apply(lambda x: x[0:2])\n",
    "#Rename them to more intuitive categories:\n",
    "dataset['Item_Type_Combined'] = dataset['Item_Type_Combined'].map({'FD':'Food',\n",
    "                                                             'NC':'Non-Consumable',\n",
    "                                                             'DR':'Drinks'})\n",
    "dataset['Item_Type_Combined'].value_counts()"
   ]
  },
  {
   "cell_type": "code",
   "execution_count": 22,
   "metadata": {},
   "outputs": [
    {
     "data": {
      "text/plain": [
       "Low Fat       6499\n",
       "Regular       5019\n",
       "Non-Edible    2686\n",
       "Name: Item_Fat_Content, dtype: int64"
      ]
     },
     "execution_count": 22,
     "metadata": {},
     "output_type": "execute_result"
    }
   ],
   "source": [
    "# There are Items that are not consumable and we have only two column in Fat content. We try to mark Non consumable items with 'Non-Edible'.\n",
    "dataset.loc[dataset['Item_Type_Combined']==\"Non-Consumable\",'Item_Fat_Content'] = \"Non-Edible\"\n",
    "dataset['Item_Fat_Content'].value_counts()"
   ]
  },
  {
   "cell_type": "code",
   "execution_count": 23,
   "metadata": {},
   "outputs": [
    {
     "data": {
      "text/plain": [
       "Supermarket Combined    10853\n",
       "Grocery Store            1805\n",
       "Supermarket Type2        1546\n",
       "Name: Outlet_Type, dtype: int64"
      ]
     },
     "execution_count": 23,
     "metadata": {},
     "output_type": "execute_result"
    }
   ],
   "source": [
    "#combining Outlet_Type on the basis of sales and checking correlation\n",
    "dataset.loc[dataset['Outlet_Type'] == 'Supermarket Type1', 'Outlet_Type'] = 'Supermarket Combined'\n",
    "dataset.loc[dataset['Outlet_Type'] == 'Supermarket Type3', 'Outlet_Type'] = 'Supermarket Combined'\n",
    "dataset['Outlet_Type'].value_counts()"
   ]
  },
  {
   "cell_type": "markdown",
   "metadata": {},
   "source": [
    "## Preparing dataset for ML model"
   ]
  },
  {
   "cell_type": "code",
   "execution_count": null,
   "metadata": {
    "collapsed": true
   },
   "outputs": [],
   "source": [
    "# dropping columns\n",
    "dataset.drop(['Item_Outlet_Sales','Outlet_Establishment_Year','Item_Type','Item_Identifier',\n",
    "              'Outlet_Identifier'],axis = 1,inplace = True)\n",
    "\n",
    "# encoding categorical values\n",
    "\n",
    "# Outlet_Type\n",
    "dataset['Outlet_Type']  = dataset['Outlet_Type'].map({'Supermarket Combined': 2, 'Supermarket Type2':1,\n",
    "       'Grocery Store':0})\n",
    "\n",
    "# Outlet_Size\n",
    "dataset['Outlet_Size']  = dataset['Outlet_Size'].map({'High': 2, 'Medium': 1,'Small':0})\n",
    "\n",
    "# rest categorical variable\n",
    "dataset = pd.get_dummies(dataset)\n",
    "print(dataset.head())\n",
    "\n",
    "# Splitting dataset\n",
    "X = dataset.iloc[:8523,:].values\n",
    "test_data = dataset.iloc[8523:,:].values\n",
    "y = train_data.iloc[:,11:12].values\n",
    "\n",
    "# feature scaling\n",
    "from sklearn.preprocessing import StandardScaler\n",
    "sc_X = StandardScaler()\n",
    "sc_y = StandardScaler()\n",
    "X = sc_X.fit_transform(X)\n",
    "test_data = sc_X.transform(test_data)\n",
    "y = sc_y.fit_transform(y)"
   ]
  },
  {
   "cell_type": "markdown",
   "metadata": {},
   "source": [
    "## Model fitting and Hyperparameter Tuning with Random Forest Regressor"
   ]
  },
  {
   "cell_type": "code",
   "execution_count": 26,
   "metadata": {
    "collapsed": true
   },
   "outputs": [],
   "source": [
    "#random forest classifier\n",
    "from sklearn.model_selection import GridSearchCV\n",
    "from sklearn.ensemble import RandomForestRegressor"
   ]
  },
  {
   "cell_type": "code",
   "execution_count": 28,
   "metadata": {},
   "outputs": [
    {
     "name": "stdout",
     "output_type": "stream",
     "text": [
      "Fitting 3 folds for each of 288 candidates, totalling 864 fits\n"
     ]
    },
    {
     "name": "stderr",
     "output_type": "stream",
     "text": [
      "[Parallel(n_jobs=-1)]: Using backend LokyBackend with 4 concurrent workers.\n",
      "[Parallel(n_jobs=-1)]: Done  33 tasks      | elapsed:  1.1min\n",
      "[Parallel(n_jobs=-1)]: Done 154 tasks      | elapsed:  3.4min\n",
      "[Parallel(n_jobs=-1)]: Done 357 tasks      | elapsed:  8.4min\n",
      "[Parallel(n_jobs=-1)]: Done 640 tasks      | elapsed: 16.6min\n",
      "[Parallel(n_jobs=-1)]: Done 864 out of 864 | elapsed: 23.6min finished\n",
      "C:\\Users\\prashant bajetha\\Anaconda3\\lib\\site-packages\\sklearn\\model_selection\\_search.py:740: DataConversionWarning: A column-vector y was passed when a 1d array was expected. Please change the shape of y to (n_samples,), for example using ravel().\n",
      "  self.best_estimator_.fit(X, y, **fit_params)\n"
     ]
    },
    {
     "data": {
      "text/plain": [
       "({'bootstrap': True,\n",
       "  'max_depth': 6,\n",
       "  'max_features': 'auto',\n",
       "  'min_samples_leaf': 40,\n",
       "  'n_estimators': 350},\n",
       " -0.4018391689508537)"
      ]
     },
     "execution_count": 28,
     "metadata": {},
     "output_type": "execute_result"
    }
   ],
   "source": [
    "tree_one = RandomForestRegressor()\n",
    "param_grid1 = {\n",
    "    'bootstrap':[True, False],\n",
    "    'max_depth': [5,6,7],\n",
    "    'max_features': ['auto',5,6],\n",
    "    'min_samples_leaf': [40,50,60,70],\n",
    "    'n_estimators': [250,300,350,400]\n",
    "}\n",
    "grid_search1 = GridSearchCV(estimator = tree_one, param_grid = param_grid1, scoring = 'neg_mean_squared_error',\n",
    "                          cv = 3, n_jobs = -1, verbose = 2)\n",
    "grid_search1.fit(X, y)\n",
    "grid_search1.best_params_,grid_search1.best_score_"
   ]
  },
  {
   "cell_type": "code",
   "execution_count": 29,
   "metadata": {},
   "outputs": [
    {
     "name": "stderr",
     "output_type": "stream",
     "text": [
      "C:\\Users\\prashant bajetha\\Anaconda3\\lib\\site-packages\\ipykernel_launcher.py:3: DataConversionWarning: A column-vector y was passed when a 1d array was expected. Please change the shape of y to (n_samples,), for example using ravel().\n",
      "  This is separate from the ipykernel package so we can avoid doing imports until\n"
     ]
    }
   ],
   "source": [
    "# Fitting RandomForestRegressor with Optimal HyperParameter\n",
    "opt_rf = RandomForestRegressor(bootstrap = True, max_depth = 6, min_samples_leaf = 40,n_estimators = 350)\n",
    "opt_rf.fit(X,y)\n",
    "\n",
    "# Prediction\n",
    "y_pred = opt_rf.predict(test_data)\n",
    "predicted_values = sc_y.inverse_transform(y_pred)"
   ]
  },
  {
   "cell_type": "code",
   "execution_count": 31,
   "metadata": {},
   "outputs": [
    {
     "data": {
      "text/plain": [
       "array([1648.73475522, 1361.68066648,  604.35447569, 2472.42166705,\n",
       "       6188.45579369])"
      ]
     },
     "execution_count": 31,
     "metadata": {},
     "output_type": "execute_result"
    }
   ],
   "source": [
    "# five sample sales prediction\n",
    "predicted_values[:5]"
   ]
  },
  {
   "cell_type": "markdown",
   "metadata": {
    "collapsed": true
   },
   "source": [
    "### With this i got the RMSE score of 1152.37."
   ]
  },
  {
   "cell_type": "code",
   "execution_count": null,
   "metadata": {
    "collapsed": true
   },
   "outputs": [],
   "source": []
  }
 ],
 "metadata": {
  "kernelspec": {
   "display_name": "Python 3",
   "language": "python",
   "name": "python3"
  },
  "language_info": {
   "codemirror_mode": {
    "name": "ipython",
    "version": 3
   },
   "file_extension": ".py",
   "mimetype": "text/x-python",
   "name": "python",
   "nbconvert_exporter": "python",
   "pygments_lexer": "ipython3",
   "version": "3.6.6"
  }
 },
 "nbformat": 4,
 "nbformat_minor": 2
}
